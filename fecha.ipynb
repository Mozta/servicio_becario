{
  "nbformat": 4,
  "nbformat_minor": 0,
  "metadata": {
    "colab": {
      "name": "Untitled7.ipynb",
      "version": "0.3.2",
      "provenance": [],
      "collapsed_sections": []
    },
    "kernelspec": {
      "name": "python3",
      "display_name": "Python 3"
    }
  },
  "cells": [
    {
      "metadata": {
        "id": "P8xCFc6m28J6",
        "colab_type": "code",
        "colab": {
          "base_uri": "https://localhost:8080/",
          "height": 129
        },
        "outputId": "976463d5-ca03-4500-89bf-9bc5a150a19b"
      },
      "cell_type": "code",
      "source": [
        "import datetime\n",
        "from datetime import date\n",
        "d=date.today()\n",
        "#Buscar fecha actual\n",
        "hoy=datetime.date.today()\n",
        "#imprimir la fecha\n",
        "print(hoy.strftime('%d/%m/%y'))\n",
        "fecha=int(input((\"\\n Introduce año de nacimiento\"))\n",
        "\n"
      ],
      "execution_count": 15,
      "outputs": [
        {
          "output_type": "error",
          "ename": "SyntaxError",
          "evalue": "ignored",
          "traceback": [
            "\u001b[0;36m  File \u001b[0;32m\"<ipython-input-15-cd162871c7d1>\"\u001b[0;36m, line \u001b[0;32m8\u001b[0m\n\u001b[0;31m    fecha=int(input((\"\\n Introduce año de nacimiento\"))\u001b[0m\n\u001b[0m                                                       ^\u001b[0m\n\u001b[0;31mSyntaxError\u001b[0m\u001b[0;31m:\u001b[0m unexpected EOF while parsing\n"
          ]
        }
      ]
    }
  ]
}