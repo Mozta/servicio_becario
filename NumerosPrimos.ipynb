{
  "nbformat": 4,
  "nbformat_minor": 0,
  "metadata": {
    "colab": {
      "name": "Untitled3.ipynb",
      "version": "0.3.2",
      "provenance": [],
      "collapsed_sections": []
    },
    "kernelspec": {
      "name": "python3",
      "display_name": "Python 3"
    }
  },
  "cells": [
    {
      "metadata": {
        "id": "ONdzX9GfqwI6",
        "colab_type": "code",
        "colab": {
          "base_uri": "https://localhost:8080/",
          "height": 51
        },
        "outputId": "16752f32-910d-445f-afa7-b606ba292fc3"
      },
      "cell_type": "code",
      "source": [
        "r=True\n",
        "n=int(input(\"Ingresa un numero:\"))\n",
        "d=0\n",
        "while d<n and r:\n",
        "  if n%2==0 :\n",
        "    r=False\n",
        "  d=d+1\n",
        "if (r):\n",
        "  print (\"si es primo\")\n",
        "else :\n",
        "  print (\"No es primo\")\n"
      ],
      "execution_count": 17,
      "outputs": [
        {
          "output_type": "stream",
          "text": [
            "Ingresa un numero:124\n",
            "No es primo\n"
          ],
          "name": "stdout"
        }
      ]
    }
  ]
}